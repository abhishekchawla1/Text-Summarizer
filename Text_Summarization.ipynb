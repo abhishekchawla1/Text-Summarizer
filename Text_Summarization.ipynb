{
  "nbformat": 4,
  "nbformat_minor": 0,
  "metadata": {
    "colab": {
      "provenance": [],
      "gpuType": "T4",
      "toc_visible": true
    },
    "kernelspec": {
      "name": "python3",
      "display_name": "Python 3"
    },
    "language_info": {
      "name": "python"
    },
    "accelerator": "GPU"
  },
  "cells": [
    {
      "cell_type": "code",
      "source": [
        "!pip install opendatasets"
      ],
      "metadata": {
        "colab": {
          "base_uri": "https://localhost:8080/"
        },
        "id": "fJp6uhUlpT9H",
        "outputId": "60f85bdb-8bf1-4574-9ce3-dcb32ab656a4"
      },
      "execution_count": 1,
      "outputs": [
        {
          "output_type": "stream",
          "name": "stdout",
          "text": [
            "Collecting opendatasets\n",
            "  Downloading opendatasets-0.1.22-py3-none-any.whl (15 kB)\n",
            "Requirement already satisfied: tqdm in /usr/local/lib/python3.10/dist-packages (from opendatasets) (4.66.2)\n",
            "Requirement already satisfied: kaggle in /usr/local/lib/python3.10/dist-packages (from opendatasets) (1.5.16)\n",
            "Requirement already satisfied: click in /usr/local/lib/python3.10/dist-packages (from opendatasets) (8.1.7)\n",
            "Requirement already satisfied: six>=1.10 in /usr/local/lib/python3.10/dist-packages (from kaggle->opendatasets) (1.16.0)\n",
            "Requirement already satisfied: certifi in /usr/local/lib/python3.10/dist-packages (from kaggle->opendatasets) (2024.2.2)\n",
            "Requirement already satisfied: python-dateutil in /usr/local/lib/python3.10/dist-packages (from kaggle->opendatasets) (2.8.2)\n",
            "Requirement already satisfied: requests in /usr/local/lib/python3.10/dist-packages (from kaggle->opendatasets) (2.31.0)\n",
            "Requirement already satisfied: python-slugify in /usr/local/lib/python3.10/dist-packages (from kaggle->opendatasets) (8.0.4)\n",
            "Requirement already satisfied: urllib3 in /usr/local/lib/python3.10/dist-packages (from kaggle->opendatasets) (2.0.7)\n",
            "Requirement already satisfied: bleach in /usr/local/lib/python3.10/dist-packages (from kaggle->opendatasets) (6.1.0)\n",
            "Requirement already satisfied: webencodings in /usr/local/lib/python3.10/dist-packages (from bleach->kaggle->opendatasets) (0.5.1)\n",
            "Requirement already satisfied: text-unidecode>=1.3 in /usr/local/lib/python3.10/dist-packages (from python-slugify->kaggle->opendatasets) (1.3)\n",
            "Requirement already satisfied: charset-normalizer<4,>=2 in /usr/local/lib/python3.10/dist-packages (from requests->kaggle->opendatasets) (3.3.2)\n",
            "Requirement already satisfied: idna<4,>=2.5 in /usr/local/lib/python3.10/dist-packages (from requests->kaggle->opendatasets) (3.6)\n",
            "Installing collected packages: opendatasets\n",
            "Successfully installed opendatasets-0.1.22\n"
          ]
        }
      ]
    },
    {
      "cell_type": "code",
      "source": [
        "import opendatasets as od"
      ],
      "metadata": {
        "id": "fKRsctV0picV"
      },
      "execution_count": 2,
      "outputs": []
    },
    {
      "cell_type": "code",
      "source": [
        "data='https://www.kaggle.com/datasets/gowrishankarp/newspaper-text-summarization-cnn-dailymail/code'"
      ],
      "metadata": {
        "id": "JjceNjV8pv9G"
      },
      "execution_count": 3,
      "outputs": []
    },
    {
      "cell_type": "code",
      "source": [
        "od.download(data)"
      ],
      "metadata": {
        "colab": {
          "base_uri": "https://localhost:8080/"
        },
        "id": "vnfv-Lm7p3Ur",
        "outputId": "418ed204-bf15-4afb-9c71-6c60f92394ea"
      },
      "execution_count": 4,
      "outputs": [
        {
          "output_type": "stream",
          "name": "stdout",
          "text": [
            "Please provide your Kaggle credentials to download this dataset. Learn more: http://bit.ly/kaggle-creds\n",
            "Your Kaggle username: abhishek001chawla\n",
            "Your Kaggle Key: ··········\n",
            "Downloading newspaper-text-summarization-cnn-dailymail.zip to ./newspaper-text-summarization-cnn-dailymail\n"
          ]
        },
        {
          "output_type": "stream",
          "name": "stderr",
          "text": [
            "100%|██████████| 503M/503M [00:05<00:00, 92.8MB/s]\n"
          ]
        },
        {
          "output_type": "stream",
          "name": "stdout",
          "text": [
            "\n"
          ]
        }
      ]
    },
    {
      "cell_type": "code",
      "source": [
        "import os"
      ],
      "metadata": {
        "id": "pM8PsmHwp5yS"
      },
      "execution_count": 5,
      "outputs": []
    },
    {
      "cell_type": "code",
      "source": [
        "data_dir='./newspaper-text-summarization-cnn-dailymail'"
      ],
      "metadata": {
        "id": "ZgDcTGeqqXdB"
      },
      "execution_count": 6,
      "outputs": []
    },
    {
      "cell_type": "code",
      "source": [
        "os.listdir(data_dir)"
      ],
      "metadata": {
        "colab": {
          "base_uri": "https://localhost:8080/"
        },
        "id": "RpQuEjddqgE7",
        "outputId": "d25f34ed-fb4b-44c7-a4d8-a6f2eb8f68b5"
      },
      "execution_count": 7,
      "outputs": [
        {
          "output_type": "execute_result",
          "data": {
            "text/plain": [
              "['cnn_dailymail']"
            ]
          },
          "metadata": {},
          "execution_count": 7
        }
      ]
    },
    {
      "cell_type": "code",
      "source": [
        "import pandas as pd\n",
        "import numpy as np\n",
        "df_train=pd.read_csv(r'/content/newspaper-text-summarization-cnn-dailymail/cnn_dailymail/train.csv')"
      ],
      "metadata": {
        "id": "uJeZGJ4PqiBM"
      },
      "execution_count": 8,
      "outputs": []
    },
    {
      "cell_type": "code",
      "source": [
        "df_train.shape"
      ],
      "metadata": {
        "colab": {
          "base_uri": "https://localhost:8080/"
        },
        "id": "l64pG6OFqsLN",
        "outputId": "2313efbe-60b3-4a67-8da3-f7b026af71f8"
      },
      "execution_count": 9,
      "outputs": [
        {
          "output_type": "execute_result",
          "data": {
            "text/plain": [
              "(287113, 3)"
            ]
          },
          "metadata": {},
          "execution_count": 9
        }
      ]
    },
    {
      "cell_type": "code",
      "source": [
        "df_train.head()"
      ],
      "metadata": {
        "colab": {
          "base_uri": "https://localhost:8080/",
          "height": 206
        },
        "id": "Awp8sDyCq3Ey",
        "outputId": "708dfcba-9fa1-49bd-ce45-24718830b130"
      },
      "execution_count": 10,
      "outputs": [
        {
          "output_type": "execute_result",
          "data": {
            "text/plain": [
              "                                         id  \\\n",
              "0  0001d1afc246a7964130f43ae940af6bc6c57f01   \n",
              "1  0002095e55fcbd3a2f366d9bf92a95433dc305ef   \n",
              "2  00027e965c8264c35cc1bc55556db388da82b07f   \n",
              "3  0002c17436637c4fe1837c935c04de47adb18e9a   \n",
              "4  0003ad6ef0c37534f80b55b4235108024b407f0b   \n",
              "\n",
              "                                             article  \\\n",
              "0  By . Associated Press . PUBLISHED: . 14:11 EST...   \n",
              "1  (CNN) -- Ralph Mata was an internal affairs li...   \n",
              "2  A drunk driver who killed a young woman in a h...   \n",
              "3  (CNN) -- With a breezy sweep of his pen Presid...   \n",
              "4  Fleetwood are the only team still to have a 10...   \n",
              "\n",
              "                                          highlights  \n",
              "0  Bishop John Folda, of North Dakota, is taking ...  \n",
              "1  Criminal complaint: Cop used his role to help ...  \n",
              "2  Craig Eccleston-Todd, 27, had drunk at least t...  \n",
              "3  Nina dos Santos says Europe must be ready to a...  \n",
              "4  Fleetwood top of League One after 2-0 win at S...  "
            ],
            "text/html": [
              "\n",
              "  <div id=\"df-f63937cb-33ea-4650-a10c-0aee195ba33c\" class=\"colab-df-container\">\n",
              "    <div>\n",
              "<style scoped>\n",
              "    .dataframe tbody tr th:only-of-type {\n",
              "        vertical-align: middle;\n",
              "    }\n",
              "\n",
              "    .dataframe tbody tr th {\n",
              "        vertical-align: top;\n",
              "    }\n",
              "\n",
              "    .dataframe thead th {\n",
              "        text-align: right;\n",
              "    }\n",
              "</style>\n",
              "<table border=\"1\" class=\"dataframe\">\n",
              "  <thead>\n",
              "    <tr style=\"text-align: right;\">\n",
              "      <th></th>\n",
              "      <th>id</th>\n",
              "      <th>article</th>\n",
              "      <th>highlights</th>\n",
              "    </tr>\n",
              "  </thead>\n",
              "  <tbody>\n",
              "    <tr>\n",
              "      <th>0</th>\n",
              "      <td>0001d1afc246a7964130f43ae940af6bc6c57f01</td>\n",
              "      <td>By . Associated Press . PUBLISHED: . 14:11 EST...</td>\n",
              "      <td>Bishop John Folda, of North Dakota, is taking ...</td>\n",
              "    </tr>\n",
              "    <tr>\n",
              "      <th>1</th>\n",
              "      <td>0002095e55fcbd3a2f366d9bf92a95433dc305ef</td>\n",
              "      <td>(CNN) -- Ralph Mata was an internal affairs li...</td>\n",
              "      <td>Criminal complaint: Cop used his role to help ...</td>\n",
              "    </tr>\n",
              "    <tr>\n",
              "      <th>2</th>\n",
              "      <td>00027e965c8264c35cc1bc55556db388da82b07f</td>\n",
              "      <td>A drunk driver who killed a young woman in a h...</td>\n",
              "      <td>Craig Eccleston-Todd, 27, had drunk at least t...</td>\n",
              "    </tr>\n",
              "    <tr>\n",
              "      <th>3</th>\n",
              "      <td>0002c17436637c4fe1837c935c04de47adb18e9a</td>\n",
              "      <td>(CNN) -- With a breezy sweep of his pen Presid...</td>\n",
              "      <td>Nina dos Santos says Europe must be ready to a...</td>\n",
              "    </tr>\n",
              "    <tr>\n",
              "      <th>4</th>\n",
              "      <td>0003ad6ef0c37534f80b55b4235108024b407f0b</td>\n",
              "      <td>Fleetwood are the only team still to have a 10...</td>\n",
              "      <td>Fleetwood top of League One after 2-0 win at S...</td>\n",
              "    </tr>\n",
              "  </tbody>\n",
              "</table>\n",
              "</div>\n",
              "    <div class=\"colab-df-buttons\">\n",
              "\n",
              "  <div class=\"colab-df-container\">\n",
              "    <button class=\"colab-df-convert\" onclick=\"convertToInteractive('df-f63937cb-33ea-4650-a10c-0aee195ba33c')\"\n",
              "            title=\"Convert this dataframe to an interactive table.\"\n",
              "            style=\"display:none;\">\n",
              "\n",
              "  <svg xmlns=\"http://www.w3.org/2000/svg\" height=\"24px\" viewBox=\"0 -960 960 960\">\n",
              "    <path d=\"M120-120v-720h720v720H120Zm60-500h600v-160H180v160Zm220 220h160v-160H400v160Zm0 220h160v-160H400v160ZM180-400h160v-160H180v160Zm440 0h160v-160H620v160ZM180-180h160v-160H180v160Zm440 0h160v-160H620v160Z\"/>\n",
              "  </svg>\n",
              "    </button>\n",
              "\n",
              "  <style>\n",
              "    .colab-df-container {\n",
              "      display:flex;\n",
              "      gap: 12px;\n",
              "    }\n",
              "\n",
              "    .colab-df-convert {\n",
              "      background-color: #E8F0FE;\n",
              "      border: none;\n",
              "      border-radius: 50%;\n",
              "      cursor: pointer;\n",
              "      display: none;\n",
              "      fill: #1967D2;\n",
              "      height: 32px;\n",
              "      padding: 0 0 0 0;\n",
              "      width: 32px;\n",
              "    }\n",
              "\n",
              "    .colab-df-convert:hover {\n",
              "      background-color: #E2EBFA;\n",
              "      box-shadow: 0px 1px 2px rgba(60, 64, 67, 0.3), 0px 1px 3px 1px rgba(60, 64, 67, 0.15);\n",
              "      fill: #174EA6;\n",
              "    }\n",
              "\n",
              "    .colab-df-buttons div {\n",
              "      margin-bottom: 4px;\n",
              "    }\n",
              "\n",
              "    [theme=dark] .colab-df-convert {\n",
              "      background-color: #3B4455;\n",
              "      fill: #D2E3FC;\n",
              "    }\n",
              "\n",
              "    [theme=dark] .colab-df-convert:hover {\n",
              "      background-color: #434B5C;\n",
              "      box-shadow: 0px 1px 3px 1px rgba(0, 0, 0, 0.15);\n",
              "      filter: drop-shadow(0px 1px 2px rgba(0, 0, 0, 0.3));\n",
              "      fill: #FFFFFF;\n",
              "    }\n",
              "  </style>\n",
              "\n",
              "    <script>\n",
              "      const buttonEl =\n",
              "        document.querySelector('#df-f63937cb-33ea-4650-a10c-0aee195ba33c button.colab-df-convert');\n",
              "      buttonEl.style.display =\n",
              "        google.colab.kernel.accessAllowed ? 'block' : 'none';\n",
              "\n",
              "      async function convertToInteractive(key) {\n",
              "        const element = document.querySelector('#df-f63937cb-33ea-4650-a10c-0aee195ba33c');\n",
              "        const dataTable =\n",
              "          await google.colab.kernel.invokeFunction('convertToInteractive',\n",
              "                                                    [key], {});\n",
              "        if (!dataTable) return;\n",
              "\n",
              "        const docLinkHtml = 'Like what you see? Visit the ' +\n",
              "          '<a target=\"_blank\" href=https://colab.research.google.com/notebooks/data_table.ipynb>data table notebook</a>'\n",
              "          + ' to learn more about interactive tables.';\n",
              "        element.innerHTML = '';\n",
              "        dataTable['output_type'] = 'display_data';\n",
              "        await google.colab.output.renderOutput(dataTable, element);\n",
              "        const docLink = document.createElement('div');\n",
              "        docLink.innerHTML = docLinkHtml;\n",
              "        element.appendChild(docLink);\n",
              "      }\n",
              "    </script>\n",
              "  </div>\n",
              "\n",
              "\n",
              "<div id=\"df-cef89808-cec3-4144-a223-8013f7d37483\">\n",
              "  <button class=\"colab-df-quickchart\" onclick=\"quickchart('df-cef89808-cec3-4144-a223-8013f7d37483')\"\n",
              "            title=\"Suggest charts\"\n",
              "            style=\"display:none;\">\n",
              "\n",
              "<svg xmlns=\"http://www.w3.org/2000/svg\" height=\"24px\"viewBox=\"0 0 24 24\"\n",
              "     width=\"24px\">\n",
              "    <g>\n",
              "        <path d=\"M19 3H5c-1.1 0-2 .9-2 2v14c0 1.1.9 2 2 2h14c1.1 0 2-.9 2-2V5c0-1.1-.9-2-2-2zM9 17H7v-7h2v7zm4 0h-2V7h2v10zm4 0h-2v-4h2v4z\"/>\n",
              "    </g>\n",
              "</svg>\n",
              "  </button>\n",
              "\n",
              "<style>\n",
              "  .colab-df-quickchart {\n",
              "      --bg-color: #E8F0FE;\n",
              "      --fill-color: #1967D2;\n",
              "      --hover-bg-color: #E2EBFA;\n",
              "      --hover-fill-color: #174EA6;\n",
              "      --disabled-fill-color: #AAA;\n",
              "      --disabled-bg-color: #DDD;\n",
              "  }\n",
              "\n",
              "  [theme=dark] .colab-df-quickchart {\n",
              "      --bg-color: #3B4455;\n",
              "      --fill-color: #D2E3FC;\n",
              "      --hover-bg-color: #434B5C;\n",
              "      --hover-fill-color: #FFFFFF;\n",
              "      --disabled-bg-color: #3B4455;\n",
              "      --disabled-fill-color: #666;\n",
              "  }\n",
              "\n",
              "  .colab-df-quickchart {\n",
              "    background-color: var(--bg-color);\n",
              "    border: none;\n",
              "    border-radius: 50%;\n",
              "    cursor: pointer;\n",
              "    display: none;\n",
              "    fill: var(--fill-color);\n",
              "    height: 32px;\n",
              "    padding: 0;\n",
              "    width: 32px;\n",
              "  }\n",
              "\n",
              "  .colab-df-quickchart:hover {\n",
              "    background-color: var(--hover-bg-color);\n",
              "    box-shadow: 0 1px 2px rgba(60, 64, 67, 0.3), 0 1px 3px 1px rgba(60, 64, 67, 0.15);\n",
              "    fill: var(--button-hover-fill-color);\n",
              "  }\n",
              "\n",
              "  .colab-df-quickchart-complete:disabled,\n",
              "  .colab-df-quickchart-complete:disabled:hover {\n",
              "    background-color: var(--disabled-bg-color);\n",
              "    fill: var(--disabled-fill-color);\n",
              "    box-shadow: none;\n",
              "  }\n",
              "\n",
              "  .colab-df-spinner {\n",
              "    border: 2px solid var(--fill-color);\n",
              "    border-color: transparent;\n",
              "    border-bottom-color: var(--fill-color);\n",
              "    animation:\n",
              "      spin 1s steps(1) infinite;\n",
              "  }\n",
              "\n",
              "  @keyframes spin {\n",
              "    0% {\n",
              "      border-color: transparent;\n",
              "      border-bottom-color: var(--fill-color);\n",
              "      border-left-color: var(--fill-color);\n",
              "    }\n",
              "    20% {\n",
              "      border-color: transparent;\n",
              "      border-left-color: var(--fill-color);\n",
              "      border-top-color: var(--fill-color);\n",
              "    }\n",
              "    30% {\n",
              "      border-color: transparent;\n",
              "      border-left-color: var(--fill-color);\n",
              "      border-top-color: var(--fill-color);\n",
              "      border-right-color: var(--fill-color);\n",
              "    }\n",
              "    40% {\n",
              "      border-color: transparent;\n",
              "      border-right-color: var(--fill-color);\n",
              "      border-top-color: var(--fill-color);\n",
              "    }\n",
              "    60% {\n",
              "      border-color: transparent;\n",
              "      border-right-color: var(--fill-color);\n",
              "    }\n",
              "    80% {\n",
              "      border-color: transparent;\n",
              "      border-right-color: var(--fill-color);\n",
              "      border-bottom-color: var(--fill-color);\n",
              "    }\n",
              "    90% {\n",
              "      border-color: transparent;\n",
              "      border-bottom-color: var(--fill-color);\n",
              "    }\n",
              "  }\n",
              "</style>\n",
              "\n",
              "  <script>\n",
              "    async function quickchart(key) {\n",
              "      const quickchartButtonEl =\n",
              "        document.querySelector('#' + key + ' button');\n",
              "      quickchartButtonEl.disabled = true;  // To prevent multiple clicks.\n",
              "      quickchartButtonEl.classList.add('colab-df-spinner');\n",
              "      try {\n",
              "        const charts = await google.colab.kernel.invokeFunction(\n",
              "            'suggestCharts', [key], {});\n",
              "      } catch (error) {\n",
              "        console.error('Error during call to suggestCharts:', error);\n",
              "      }\n",
              "      quickchartButtonEl.classList.remove('colab-df-spinner');\n",
              "      quickchartButtonEl.classList.add('colab-df-quickchart-complete');\n",
              "    }\n",
              "    (() => {\n",
              "      let quickchartButtonEl =\n",
              "        document.querySelector('#df-cef89808-cec3-4144-a223-8013f7d37483 button');\n",
              "      quickchartButtonEl.style.display =\n",
              "        google.colab.kernel.accessAllowed ? 'block' : 'none';\n",
              "    })();\n",
              "  </script>\n",
              "</div>\n",
              "\n",
              "    </div>\n",
              "  </div>\n"
            ],
            "application/vnd.google.colaboratory.intrinsic+json": {
              "type": "dataframe",
              "variable_name": "df_train"
            }
          },
          "metadata": {},
          "execution_count": 10
        }
      ]
    },
    {
      "cell_type": "code",
      "source": [
        "df_validation=pd.read_csv(r'/content/newspaper-text-summarization-cnn-dailymail/cnn_dailymail/validation.csv')"
      ],
      "metadata": {
        "id": "Sd53qMTMq5kW"
      },
      "execution_count": 11,
      "outputs": []
    },
    {
      "cell_type": "code",
      "source": [
        "df_validation.shape"
      ],
      "metadata": {
        "colab": {
          "base_uri": "https://localhost:8080/"
        },
        "id": "EqdTAa2qrWJz",
        "outputId": "59b79082-183a-41c0-a807-a82bf46fe1d1"
      },
      "execution_count": 12,
      "outputs": [
        {
          "output_type": "execute_result",
          "data": {
            "text/plain": [
              "(13368, 3)"
            ]
          },
          "metadata": {},
          "execution_count": 12
        }
      ]
    },
    {
      "cell_type": "code",
      "source": [
        "df_test=pd.read_csv(r'/content/newspaper-text-summarization-cnn-dailymail/cnn_dailymail/test.csv')"
      ],
      "metadata": {
        "id": "192cICrErXnl"
      },
      "execution_count": 13,
      "outputs": []
    },
    {
      "cell_type": "code",
      "source": [
        "df_test.shape"
      ],
      "metadata": {
        "colab": {
          "base_uri": "https://localhost:8080/"
        },
        "id": "u4rhWZ49rboN",
        "outputId": "9ad6e9fc-8b29-4c90-8f84-4f36a839bcc4"
      },
      "execution_count": 14,
      "outputs": [
        {
          "output_type": "execute_result",
          "data": {
            "text/plain": [
              "(11490, 3)"
            ]
          },
          "metadata": {},
          "execution_count": 14
        }
      ]
    },
    {
      "cell_type": "code",
      "source": [
        "df_train.info()"
      ],
      "metadata": {
        "colab": {
          "base_uri": "https://localhost:8080/"
        },
        "id": "AxzXhv74rdjK",
        "outputId": "4bbfe6ea-7b90-48ba-9aa2-29b75fdb8d5f"
      },
      "execution_count": 15,
      "outputs": [
        {
          "output_type": "stream",
          "name": "stdout",
          "text": [
            "<class 'pandas.core.frame.DataFrame'>\n",
            "RangeIndex: 287113 entries, 0 to 287112\n",
            "Data columns (total 3 columns):\n",
            " #   Column      Non-Null Count   Dtype \n",
            "---  ------      --------------   ----- \n",
            " 0   id          287113 non-null  object\n",
            " 1   article     287113 non-null  object\n",
            " 2   highlights  287113 non-null  object\n",
            "dtypes: object(3)\n",
            "memory usage: 6.6+ MB\n"
          ]
        }
      ]
    },
    {
      "cell_type": "code",
      "source": [
        "df_train.columns"
      ],
      "metadata": {
        "colab": {
          "base_uri": "https://localhost:8080/"
        },
        "id": "PsXms2fRrzcC",
        "outputId": "a0f8a5e3-e3ea-41ad-d58b-fbc86cc9c63f"
      },
      "execution_count": 16,
      "outputs": [
        {
          "output_type": "execute_result",
          "data": {
            "text/plain": [
              "Index(['id', 'article', 'highlights'], dtype='object')"
            ]
          },
          "metadata": {},
          "execution_count": 16
        }
      ]
    },
    {
      "cell_type": "code",
      "source": [
        "df_train.isnull().sum()"
      ],
      "metadata": {
        "colab": {
          "base_uri": "https://localhost:8080/"
        },
        "id": "_fgD4ITzr85X",
        "outputId": "16ce866f-d5dc-4e29-c80b-5e6d09a5c590"
      },
      "execution_count": 17,
      "outputs": [
        {
          "output_type": "execute_result",
          "data": {
            "text/plain": [
              "id            0\n",
              "article       0\n",
              "highlights    0\n",
              "dtype: int64"
            ]
          },
          "metadata": {},
          "execution_count": 17
        }
      ]
    },
    {
      "cell_type": "code",
      "source": [
        "df_train.duplicated().any()"
      ],
      "metadata": {
        "colab": {
          "base_uri": "https://localhost:8080/"
        },
        "id": "BAw53Ky0r_HB",
        "outputId": "fec28ed4-2182-4005-af97-efc3d23dcc0f"
      },
      "execution_count": 18,
      "outputs": [
        {
          "output_type": "execute_result",
          "data": {
            "text/plain": [
              "False"
            ]
          },
          "metadata": {},
          "execution_count": 18
        }
      ]
    },
    {
      "cell_type": "code",
      "source": [
        "training=df_train['article'][:500].replace(\"'\",\"\")\n",
        "testing=df_train['highlights'][:500].replace(\"'\",\"\")"
      ],
      "metadata": {
        "id": "zxYqDWOzsBNH"
      },
      "execution_count": 19,
      "outputs": []
    },
    {
      "cell_type": "code",
      "source": [
        "import tensorflow as tf\n",
        "tokenizer=tf.keras.preprocessing.text.Tokenizer()"
      ],
      "metadata": {
        "id": "s1wMrLkbamac"
      },
      "execution_count": 20,
      "outputs": []
    },
    {
      "cell_type": "code",
      "source": [
        "def token_news(sent):\n",
        "  tokenizer.fit_on_texts([sent])\n",
        "  seq=tokenizer.texts_to_sequences([sent])\n",
        "  seq_len=50\n",
        "  pad_seq=tf.keras.preprocessing.sequence.pad_sequences(seq,maxlen=seq_len)\n",
        "  return pad_seq"
      ],
      "metadata": {
        "id": "7Q6wwib4bG8L"
      },
      "execution_count": 21,
      "outputs": []
    },
    {
      "cell_type": "code",
      "source": [
        "import pandas as pd\n",
        "import numpy as np"
      ],
      "metadata": {
        "id": "IiWACclBbliu"
      },
      "execution_count": 22,
      "outputs": []
    },
    {
      "cell_type": "code",
      "source": [
        "training=training.apply(token_news,tokenizer)"
      ],
      "metadata": {
        "id": "ZnUQVBvibxok"
      },
      "execution_count": 23,
      "outputs": []
    },
    {
      "cell_type": "code",
      "source": [
        "training"
      ],
      "metadata": {
        "colab": {
          "base_uri": "https://localhost:8080/"
        },
        "id": "_KsNpT9rdKi_",
        "outputId": "014346ff-1d6e-41c1-b899-b2bf1c9197cc"
      },
      "execution_count": 24,
      "outputs": [
        {
          "output_type": "execute_result",
          "data": {
            "text/plain": [
              "0      [[7, 1, 5, 34, 86, 87, 1, 88, 89, 90, 91, 92, ...\n",
              "1      [[5, 277, 4, 278, 3, 92, 93, 279, 3, 92, 93, 5...\n",
              "2      [[101, 34, 38, 2, 20, 238, 551, 10, 1, 68, 28,...\n",
              "3      [[5, 75, 144, 790, 15, 791, 792, 793, 148, 794...\n",
              "4      [[1049, 122, 1, 1050, 1, 88, 340, 367, 108, 10...\n",
              "                             ...                        \n",
              "495    [[4104, 35, 14, 5369, 25856, 663, 462, 5, 1, 3...\n",
              "496    [[1321, 731, 6, 1, 148, 5, 10658, 31, 25916, 1...\n",
              "497    [[5040, 47, 1, 9212, 62, 1857, 33, 856, 3337, ...\n",
              "498    [[1418, 106, 1, 195, 76, 5, 24, 14762, 177, 1,...\n",
              "499    [[3140, 39, 7647, 939, 5464, 1067, 2, 9328, 58...\n",
              "Name: article, Length: 500, dtype: object"
            ]
          },
          "metadata": {},
          "execution_count": 24
        }
      ]
    },
    {
      "cell_type": "code",
      "source": [
        "testing=testing.apply(token_news,tokenizer)"
      ],
      "metadata": {
        "id": "MD-kQo9InQgm"
      },
      "execution_count": 25,
      "outputs": []
    },
    {
      "cell_type": "code",
      "source": [
        "testing"
      ],
      "metadata": {
        "colab": {
          "base_uri": "https://localhost:8080/"
        },
        "id": "37vI4isxndzf",
        "outputId": "9c53fb6e-c2bc-48ac-f931-8c1070154f70"
      },
      "execution_count": 26,
      "outputs": [
        {
          "output_type": "execute_result",
          "data": {
            "text/plain": [
              "0      [[0, 0, 0, 0, 0, 0, 0, 0, 0, 0, 0, 0, 0, 0, 0,...\n",
              "1      [[0, 0, 0, 0, 0, 0, 0, 0, 0, 0, 0, 0, 0, 0, 0,...\n",
              "2      [[262, 777, 6, 8577, 4890, 5, 7145, 1771, 247,...\n",
              "3      [[14533, 26044, 12001, 117, 909, 436, 22, 1016...\n",
              "4      [[55, 1928, 62, 844, 5, 1, 315, 1017, 6, 1248,...\n",
              "                             ...                        \n",
              "495    [[2477, 16, 1796, 65, 2, 782, 532, 92, 9, 37, ...\n",
              "496    [[0, 0, 0, 0, 0, 0, 0, 0, 0, 0, 0, 0, 0, 0, 65...\n",
              "497    [[0, 0, 0, 0, 0, 0, 0, 0, 0, 0, 0, 58, 11298, ...\n",
              "498    [[0, 0, 0, 0, 0, 0, 0, 0, 0, 0, 0, 0, 0, 0, 0,...\n",
              "499    [[2, 383, 4, 3, 219, 74, 6, 469, 1324, 2131, 7...\n",
              "Name: highlights, Length: 500, dtype: object"
            ]
          },
          "metadata": {},
          "execution_count": 26
        }
      ]
    },
    {
      "cell_type": "code",
      "source": [
        "from tensorflow.keras.models import Model"
      ],
      "metadata": {
        "id": "E5PNT8fmnelQ"
      },
      "execution_count": 27,
      "outputs": []
    },
    {
      "cell_type": "code",
      "source": [
        "vocab_size=10000\n",
        "embedding_dim=200\n",
        "seq_len=50\n",
        "input=tf.keras.Input(shape=seq_len)\n",
        "ehs=[]\n",
        "e_layer=tf.keras.layers.Embedding(input_dim=vocab_size,output_dim=embedding_dim)(input)\n",
        "e_lstm=tf.keras.layers.Bidirectional(tf.keras.layers.LSTM(1600,return_sequences=True))(e_layer)\n",
        "encoded=tf.keras.layers.Concatenate()([e_lstm[:,-1,:],e_lstm[:,0,:]])\n",
        "model=tf.keras.Model(inputs=input,outputs=encoded)"
      ],
      "metadata": {
        "id": "PO9lrRdonkr4"
      },
      "execution_count": 28,
      "outputs": []
    },
    {
      "cell_type": "code",
      "source": [
        "def encoder(a,ta,model):\n",
        "  o=tf.keras.optimizers.Adam(learning_rate=0.01)\n",
        "  for i in range(len(a)):\n",
        "    with tf.GradientTape() as tape:\n",
        "      result=model(a[i],training=True)\n",
        "      test_result=model(ta[i],training=True)\n",
        "      loss=tf.keras.losses.mean_squared_error(result,test_result)\n",
        "\n",
        "      ehs.append(result)\n",
        "      g=tape.gradient(loss,model.trainable_variables)\n",
        "      o.apply_gradients(zip(g,model.trainable_variables))\n",
        "      return ehs"
      ],
      "metadata": {
        "id": "hPQ_3oYPokoD"
      },
      "execution_count": 29,
      "outputs": []
    },
    {
      "cell_type": "code",
      "source": [
        "def Decoder(eh,target_tokens,model):\n",
        "  loss=0\n",
        "  seq_len=50\n",
        "  hidden_size=128\n",
        "  emb_dim=128\n",
        "  vocab_size=10000\n",
        "  c_vector=tf.zeros((128,50))\n",
        "  d_state=tf.zeros((128,50))\n",
        "  learning_rate=0.01\n",
        "  o=tf.keras.optimizers.Adam(learning_rate=0.01)\n",
        "  v = tf.random.normal(shape=(hidden_size,50))\n",
        "  Wh = tf.random.normal(shape=(hidden_size, 50))\n",
        "  Ws = tf.random.normal(shape=(hidden_size, 50))\n",
        "  battn = tf.random.normal(shape=(hidden_size,50))\n",
        "  weights= tf.random.normal(shape=(100, 1))\n",
        "  bias=tf.random.uniform([])\n",
        "\n",
        "  for t in range(len(target_tokens)):\n",
        "    input=tf.keras.Input(shape=(seq_len))\n",
        "    e_layer=tf.keras.layers.Embedding(input_dim=vocab_size,output_dim=emb_dim)(input)\n",
        "    model=tf.keras.Model(inputs=input,outputs=e_layer)\n",
        "    o_e=model.predict(target_tokens[t])\n",
        "    attention_score=[]\n",
        "    for i in range(len(ehs)):\n",
        "      ehs[i]=tf.reshape(ehs[i],(128,50))\n",
        "      eti=v*tf.nn.tanh(Wh*ehs[i]+Ws*d_state+battn)\n",
        "      attention_score.append(eti)\n",
        "\n",
        "    ad=tf.nn.softmax(attention_score)\n",
        "    for i in range(len(ehs)):\n",
        "      c_vector+=ad[i]*ehs[i]\n",
        "\n",
        "    o_e=tf.reshape(o_e,((128,50,1)))\n",
        "    o_e=tf.squeeze(o_e,axis=-1)\n",
        "    c_i=tf.expand_dims(tf.concat([c_vector,o_e],axis=-1),axis=0)\n",
        "    oe1=tf.matmul(c_i,weights)+bias\n",
        "    vocab_dist=tf.nn.softmax(oe1,axis=1)\n",
        "    hpi=np.argmax(vocab_dist)\n",
        "    twp=vocab_dist[0,hpi,0]\n",
        "    timeless_loss=-tf.math.log(twp)\n",
        "    d_state=(d_state+c_vector)/2\n",
        "    d_state=tf.reshape(d_state,(128,50))\n",
        "\n",
        "    loss+=timeless_loss\n",
        "    m_loss=loss/(t+1)\n",
        "\n",
        "    v+=learning_rate*m_loss*tf.nn.tanh(Wh*ehs[i]+Ws*d_state+battn)\n",
        "    Ws+=learning_rate*m_loss*d_state\n",
        "    Wh=Wh+learning_rate*m_loss*ehs[i]\n",
        "    battn+=learning_rate*m_loss\n",
        "    bias+=learning_rate*m_loss\n",
        "    weights+=learning_rate*m_loss*weights\n",
        "    d_state=(d_state+c_vector)/2\n",
        "    d_state = tf.reshape(d_state, (128, 50))\n",
        "\n",
        "\n",
        "  return [v,Ws,Wh,battn,weights,bias]"
      ],
      "metadata": {
        "id": "J8PbAu4hpahU"
      },
      "execution_count": 47,
      "outputs": []
    },
    {
      "cell_type": "code",
      "source": [
        "eh=encoder(training,testing,model)"
      ],
      "metadata": {
        "id": "ryp5qAsitYol"
      },
      "execution_count": 31,
      "outputs": []
    },
    {
      "cell_type": "code",
      "source": [
        "is1=tf.keras.Input(shape=(128,100))\n",
        "l2=tf.keras.layers.Dense(1)(is1)\n",
        "model=tf.keras.Model(inputs=is1,outputs=l2)"
      ],
      "metadata": {
        "id": "uzawT3X8tgBe"
      },
      "execution_count": 32,
      "outputs": []
    },
    {
      "cell_type": "code",
      "source": [
        "testing"
      ],
      "metadata": {
        "colab": {
          "base_uri": "https://localhost:8080/"
        },
        "id": "rpW2zzmI3yk1",
        "outputId": "3ca493ed-66b6-44dd-a5cd-74c092f64316"
      },
      "execution_count": 33,
      "outputs": [
        {
          "output_type": "execute_result",
          "data": {
            "text/plain": [
              "0      [[0, 0, 0, 0, 0, 0, 0, 0, 0, 0, 0, 0, 0, 0, 0,...\n",
              "1      [[0, 0, 0, 0, 0, 0, 0, 0, 0, 0, 0, 0, 0, 0, 0,...\n",
              "2      [[262, 777, 6, 8577, 4890, 5, 7145, 1771, 247,...\n",
              "3      [[14533, 26044, 12001, 117, 909, 436, 22, 1016...\n",
              "4      [[55, 1928, 62, 844, 5, 1, 315, 1017, 6, 1248,...\n",
              "                             ...                        \n",
              "495    [[2477, 16, 1796, 65, 2, 782, 532, 92, 9, 37, ...\n",
              "496    [[0, 0, 0, 0, 0, 0, 0, 0, 0, 0, 0, 0, 0, 0, 65...\n",
              "497    [[0, 0, 0, 0, 0, 0, 0, 0, 0, 0, 0, 58, 11298, ...\n",
              "498    [[0, 0, 0, 0, 0, 0, 0, 0, 0, 0, 0, 0, 0, 0, 0,...\n",
              "499    [[2, 383, 4, 3, 219, 74, 6, 469, 1324, 2131, 7...\n",
              "Name: highlights, Length: 500, dtype: object"
            ]
          },
          "metadata": {},
          "execution_count": 33
        }
      ]
    },
    {
      "cell_type": "code",
      "source": [
        "eh"
      ],
      "metadata": {
        "colab": {
          "base_uri": "https://localhost:8080/"
        },
        "id": "REYXMY2X32ng",
        "outputId": "a59e739f-f24d-4c9f-cf79-3acf0ae0a404"
      },
      "execution_count": 34,
      "outputs": [
        {
          "output_type": "execute_result",
          "data": {
            "text/plain": [
              "[<tf.Tensor: shape=(1, 6400), dtype=float32, numpy=\n",
              " array([[-0.00229631, -0.00151995,  0.00104182, ..., -0.0030432 ,\n",
              "          0.0023452 ,  0.00141003]], dtype=float32)>]"
            ]
          },
          "metadata": {},
          "execution_count": 34
        }
      ]
    },
    {
      "cell_type": "code",
      "source": [
        "model"
      ],
      "metadata": {
        "colab": {
          "base_uri": "https://localhost:8080/"
        },
        "id": "76DRYIdJ3378",
        "outputId": "05fa5dd5-cd31-4708-9689-5971d7ce84d6"
      },
      "execution_count": 35,
      "outputs": [
        {
          "output_type": "execute_result",
          "data": {
            "text/plain": [
              "<keras.src.engine.functional.Functional at 0x7df55f777370>"
            ]
          },
          "metadata": {},
          "execution_count": 35
        }
      ]
    },
    {
      "cell_type": "code",
      "source": [
        "type(testing)"
      ],
      "metadata": {
        "colab": {
          "base_uri": "https://localhost:8080/",
          "height": 203
        },
        "id": "4D2Gx1F-5nRn",
        "outputId": "bd133598-ab04-43b9-f4b3-1d066fda7528"
      },
      "execution_count": 36,
      "outputs": [
        {
          "output_type": "execute_result",
          "data": {
            "text/plain": [
              "pandas.core.series.Series"
            ],
            "text/html": [
              "<div style=\"max-width:800px; border: 1px solid var(--colab-border-color);\"><style>\n",
              "      pre.function-repr-contents {\n",
              "        overflow-x: auto;\n",
              "        padding: 8px 12px;\n",
              "        max-height: 500px;\n",
              "      }\n",
              "\n",
              "      pre.function-repr-contents.function-repr-contents-collapsed {\n",
              "        cursor: pointer;\n",
              "        max-height: 100px;\n",
              "      }\n",
              "    </style>\n",
              "    <pre style=\"white-space: initial; background:\n",
              "         var(--colab-secondary-surface-color); padding: 8px 12px;\n",
              "         border-bottom: 1px solid var(--colab-border-color);\"><b>pandas.core.series.Series</b><br/>def __init__(data=None, index=None, dtype: Dtype | None=None, name=None, copy: bool=False, fastpath: bool=False) -&gt; None</pre><pre class=\"function-repr-contents function-repr-contents-collapsed\" style=\"\"><a class=\"filepath\" style=\"display:none\" href=\"#\">/usr/local/lib/python3.10/dist-packages/pandas/core/series.py</a>One-dimensional ndarray with axis labels (including time series).\n",
              "\n",
              "Labels need not be unique but must be a hashable type. The object\n",
              "supports both integer- and label-based indexing and provides a host of\n",
              "methods for performing operations involving the index. Statistical\n",
              "methods from ndarray have been overridden to automatically exclude\n",
              "missing data (currently represented as NaN).\n",
              "\n",
              "Operations between Series (+, -, /, \\*, \\*\\*) align values based on their\n",
              "associated index values-- they need not be the same length. The result\n",
              "index will be the sorted union of the two indexes.\n",
              "\n",
              "Parameters\n",
              "----------\n",
              "data : array-like, Iterable, dict, or scalar value\n",
              "    Contains data stored in Series. If data is a dict, argument order is\n",
              "    maintained.\n",
              "index : array-like or Index (1d)\n",
              "    Values must be hashable and have the same length as `data`.\n",
              "    Non-unique index values are allowed. Will default to\n",
              "    RangeIndex (0, 1, 2, ..., n) if not provided. If data is dict-like\n",
              "    and index is None, then the keys in the data are used as the index. If the\n",
              "    index is not None, the resulting Series is reindexed with the index values.\n",
              "dtype : str, numpy.dtype, or ExtensionDtype, optional\n",
              "    Data type for the output Series. If not specified, this will be\n",
              "    inferred from `data`.\n",
              "    See the :ref:`user guide &lt;basics.dtypes&gt;` for more usages.\n",
              "name : str, optional\n",
              "    The name to give to the Series.\n",
              "copy : bool, default False\n",
              "    Copy input data. Only affects Series or 1d ndarray input. See examples.\n",
              "\n",
              "Notes\n",
              "-----\n",
              "Please reference the :ref:`User Guide &lt;basics.series&gt;` for more information.\n",
              "\n",
              "Examples\n",
              "--------\n",
              "Constructing Series from a dictionary with an Index specified\n",
              "\n",
              "&gt;&gt;&gt; d = {&#x27;a&#x27;: 1, &#x27;b&#x27;: 2, &#x27;c&#x27;: 3}\n",
              "&gt;&gt;&gt; ser = pd.Series(data=d, index=[&#x27;a&#x27;, &#x27;b&#x27;, &#x27;c&#x27;])\n",
              "&gt;&gt;&gt; ser\n",
              "a   1\n",
              "b   2\n",
              "c   3\n",
              "dtype: int64\n",
              "\n",
              "The keys of the dictionary match with the Index values, hence the Index\n",
              "values have no effect.\n",
              "\n",
              "&gt;&gt;&gt; d = {&#x27;a&#x27;: 1, &#x27;b&#x27;: 2, &#x27;c&#x27;: 3}\n",
              "&gt;&gt;&gt; ser = pd.Series(data=d, index=[&#x27;x&#x27;, &#x27;y&#x27;, &#x27;z&#x27;])\n",
              "&gt;&gt;&gt; ser\n",
              "x   NaN\n",
              "y   NaN\n",
              "z   NaN\n",
              "dtype: float64\n",
              "\n",
              "Note that the Index is first build with the keys from the dictionary.\n",
              "After this the Series is reindexed with the given Index values, hence we\n",
              "get all NaN as a result.\n",
              "\n",
              "Constructing Series from a list with `copy=False`.\n",
              "\n",
              "&gt;&gt;&gt; r = [1, 2]\n",
              "&gt;&gt;&gt; ser = pd.Series(r, copy=False)\n",
              "&gt;&gt;&gt; ser.iloc[0] = 999\n",
              "&gt;&gt;&gt; r\n",
              "[1, 2]\n",
              "&gt;&gt;&gt; ser\n",
              "0    999\n",
              "1      2\n",
              "dtype: int64\n",
              "\n",
              "Due to input data type the Series has a `copy` of\n",
              "the original data even though `copy=False`, so\n",
              "the data is unchanged.\n",
              "\n",
              "Constructing Series from a 1d ndarray with `copy=False`.\n",
              "\n",
              "&gt;&gt;&gt; r = np.array([1, 2])\n",
              "&gt;&gt;&gt; ser = pd.Series(r, copy=False)\n",
              "&gt;&gt;&gt; ser.iloc[0] = 999\n",
              "&gt;&gt;&gt; r\n",
              "array([999,   2])\n",
              "&gt;&gt;&gt; ser\n",
              "0    999\n",
              "1      2\n",
              "dtype: int64\n",
              "\n",
              "Due to input data type the Series has a `view` on\n",
              "the original data, so\n",
              "the data is changed as well.</pre>\n",
              "      <script>\n",
              "      if (google.colab.kernel.accessAllowed && google.colab.files && google.colab.files.view) {\n",
              "        for (const element of document.querySelectorAll('.filepath')) {\n",
              "          element.style.display = 'block'\n",
              "          element.onclick = (event) => {\n",
              "            event.preventDefault();\n",
              "            event.stopPropagation();\n",
              "            google.colab.files.view(element.textContent, 216);\n",
              "          };\n",
              "        }\n",
              "      }\n",
              "      for (const element of document.querySelectorAll('.function-repr-contents')) {\n",
              "        element.onclick = (event) => {\n",
              "          event.preventDefault();\n",
              "          event.stopPropagation();\n",
              "          element.classList.toggle('function-repr-contents-collapsed');\n",
              "        };\n",
              "      }\n",
              "      </script>\n",
              "      </div>"
            ]
          },
          "metadata": {},
          "execution_count": 36
        }
      ]
    },
    {
      "cell_type": "code",
      "source": [
        "type(eh)"
      ],
      "metadata": {
        "colab": {
          "base_uri": "https://localhost:8080/"
        },
        "id": "2_QDyjrU5-M3",
        "outputId": "caf69efa-7b66-4126-a3e5-07898bb2899a"
      },
      "execution_count": 37,
      "outputs": [
        {
          "output_type": "execute_result",
          "data": {
            "text/plain": [
              "list"
            ]
          },
          "metadata": {},
          "execution_count": 37
        }
      ]
    },
    {
      "cell_type": "code",
      "source": [
        "v, Ws, Wh, battn, weights, bias = decoder(eh,testing,model)"
      ],
      "metadata": {
        "id": "DwY1_l0M_la4"
      },
      "execution_count": null,
      "outputs": []
    },
    {
      "cell_type": "code",
      "source": [
        "def tests(para,v,ws,wh,battn,weights,model,bias,tokenizer,l=50):\n",
        "  tokenizer.fit_on_texts([para])\n",
        "  seq=tokenizer.texts_to_sequences([para])\n",
        "  seq_len=50\n",
        "  pad_seq=tf.keras.preprocessing.sequence.pad_sequences(seq,maxlen=seq_len)\n",
        "  t_para=token_news(para)\n",
        "  ehs=[model.predict(t_para)]\n",
        "  summary=[]\n",
        "  hs=128\n",
        "  ed=50\n",
        "  c_vector=tf.zeros((128,50))\n",
        "  d_state=tf.zeros((128,50))\n",
        "  ct=np.zeros((128))\n",
        "  for j in range(l):\n",
        "    i=tf.keras.Input(shape=(seq_len))\n",
        "    el=tf.keras.layers.Embedding(input_dim=vocab_size,output_dim=ed)(i)\n",
        "    model=tf.keras.Model(inputs=i,outputs=el)\n",
        "    oe=model.predict(ct,verbose=0)\n",
        "\n",
        "    attention_score=[]\n",
        "    for i in range(len(ehs)):\n",
        "      ehs[i]=tf.reshape(ehs[i],(128,50))\n",
        "      eti=v*tf.nn.tanh(wh*ehs[i]+ws*d_state+battn)\n",
        "      attention_score.append(eti)\n",
        "\n",
        "    ad=tf.nn.softmax(attention_score)\n",
        "    for i in range(len(ehs)):\n",
        "      c_vector+=ad[i]*ehs[i]\n",
        "\n",
        "    oe=tf.reshape(oe,(128,50,1))\n",
        "    oe=tf.squeeze(oe,axis=-1)\n",
        "    ci=tf.expand_dims(tf.concat([c_vector,oe]),axis=0)\n",
        "    oe1=tf.matmul(ci,weights)+bias\n",
        "    vd=tf.nn.softmax(oe1,axis=1)\n",
        "    hpi=np.argmax(vd)\n",
        "    ct[j]=hpi\n",
        "    d_state=(d_state+c_vector)/2\n",
        "    d_state=tf.reshape(d_state,(128,50))\n",
        "    summary.append(ct)\n",
        "\n",
        "  ttw={tokenizer.word_index[i]:i for i in tokenizer.word_index.keys()}\n",
        "  ttw.update({0.0:'',127.0:''})\n",
        "  return (' '.join([ttw[i] for i in ct]))\n",
        "\n"
      ],
      "metadata": {
        "id": "t7JepEOjytaV"
      },
      "execution_count": 49,
      "outputs": []
    },
    {
      "cell_type": "code",
      "source": [
        "df_test"
      ],
      "metadata": {
        "colab": {
          "base_uri": "https://localhost:8080/",
          "height": 423
        },
        "id": "ab8i1kI2585D",
        "outputId": "b5d7306f-413b-42b7-9f18-205703786c65"
      },
      "execution_count": 50,
      "outputs": [
        {
          "output_type": "execute_result",
          "data": {
            "text/plain": [
              "                                             id  \\\n",
              "0      92c514c913c0bdfe25341af9fd72b29db544099b   \n",
              "1      2003841c7dc0e7c5b1a248f9cd536d727f27a45a   \n",
              "2      91b7d2311527f5c2b63a65ca98d21d9c92485149   \n",
              "3      caabf9cbdf96eb1410295a673e953d304391bfbb   \n",
              "4      3da746a7d9afcaa659088c8366ef6347fe6b53ea   \n",
              "...                                         ...   \n",
              "11485  ed8674cc15b29a87d8df8de1efee353d71122272   \n",
              "11486  2f58d1a99e9c47914e4b1c31613e3a041cd9011e   \n",
              "11487  411f6d57825161c3a037b4742baccd6cd227c0c3   \n",
              "11488  b5683ef8342056b17b068e0d59bdbe87e3fe44ea   \n",
              "11489  a6a5491edb0c96c4391b6a8c4504416b3572b3a1   \n",
              "\n",
              "                                                 article  \\\n",
              "0      Ever noticed how plane seats appear to be gett...   \n",
              "1      A drunk teenage boy had to be rescued by secur...   \n",
              "2      Dougie Freedman is on the verge of agreeing a ...   \n",
              "3      Liverpool target Neto is also wanted by PSG an...   \n",
              "4      Bruce Jenner will break his silence in a two-h...   \n",
              "...                                                  ...   \n",
              "11485  Our young Earth may have collided with a body ...   \n",
              "11486  A man facing trial for helping his former love...   \n",
              "11487  A dozen or more metal implements are arranged ...   \n",
              "11488  Brook Lopez dominated twin brother Robin with ...   \n",
              "11489  A Chinese hospital is being painstakingly move...   \n",
              "\n",
              "                                              highlights  \n",
              "0      Experts question if  packed out planes are put...  \n",
              "1      Drunk teenage boy climbed into lion enclosure ...  \n",
              "2      Nottingham Forest are close to extending Dougi...  \n",
              "3      Fiorentina goalkeeper Neto has been linked wit...  \n",
              "4      Tell-all interview with the reality TV star, 6...  \n",
              "...                                                  ...  \n",
              "11485  Oxford scientists say a Mercury-like body stru...  \n",
              "11486  Man accused of helping former lover kill woman...  \n",
              "11487  Marianne Power tried the tuning fork facial at...  \n",
              "11488  Brooklyn Nets beat the Portland Trail Blazers ...  \n",
              "11489  Chinese hospital marked for demolition because...  \n",
              "\n",
              "[11490 rows x 3 columns]"
            ],
            "text/html": [
              "\n",
              "  <div id=\"df-1866a4c1-8ada-4364-9bf8-1201dc81d4e0\" class=\"colab-df-container\">\n",
              "    <div>\n",
              "<style scoped>\n",
              "    .dataframe tbody tr th:only-of-type {\n",
              "        vertical-align: middle;\n",
              "    }\n",
              "\n",
              "    .dataframe tbody tr th {\n",
              "        vertical-align: top;\n",
              "    }\n",
              "\n",
              "    .dataframe thead th {\n",
              "        text-align: right;\n",
              "    }\n",
              "</style>\n",
              "<table border=\"1\" class=\"dataframe\">\n",
              "  <thead>\n",
              "    <tr style=\"text-align: right;\">\n",
              "      <th></th>\n",
              "      <th>id</th>\n",
              "      <th>article</th>\n",
              "      <th>highlights</th>\n",
              "    </tr>\n",
              "  </thead>\n",
              "  <tbody>\n",
              "    <tr>\n",
              "      <th>0</th>\n",
              "      <td>92c514c913c0bdfe25341af9fd72b29db544099b</td>\n",
              "      <td>Ever noticed how plane seats appear to be gett...</td>\n",
              "      <td>Experts question if  packed out planes are put...</td>\n",
              "    </tr>\n",
              "    <tr>\n",
              "      <th>1</th>\n",
              "      <td>2003841c7dc0e7c5b1a248f9cd536d727f27a45a</td>\n",
              "      <td>A drunk teenage boy had to be rescued by secur...</td>\n",
              "      <td>Drunk teenage boy climbed into lion enclosure ...</td>\n",
              "    </tr>\n",
              "    <tr>\n",
              "      <th>2</th>\n",
              "      <td>91b7d2311527f5c2b63a65ca98d21d9c92485149</td>\n",
              "      <td>Dougie Freedman is on the verge of agreeing a ...</td>\n",
              "      <td>Nottingham Forest are close to extending Dougi...</td>\n",
              "    </tr>\n",
              "    <tr>\n",
              "      <th>3</th>\n",
              "      <td>caabf9cbdf96eb1410295a673e953d304391bfbb</td>\n",
              "      <td>Liverpool target Neto is also wanted by PSG an...</td>\n",
              "      <td>Fiorentina goalkeeper Neto has been linked wit...</td>\n",
              "    </tr>\n",
              "    <tr>\n",
              "      <th>4</th>\n",
              "      <td>3da746a7d9afcaa659088c8366ef6347fe6b53ea</td>\n",
              "      <td>Bruce Jenner will break his silence in a two-h...</td>\n",
              "      <td>Tell-all interview with the reality TV star, 6...</td>\n",
              "    </tr>\n",
              "    <tr>\n",
              "      <th>...</th>\n",
              "      <td>...</td>\n",
              "      <td>...</td>\n",
              "      <td>...</td>\n",
              "    </tr>\n",
              "    <tr>\n",
              "      <th>11485</th>\n",
              "      <td>ed8674cc15b29a87d8df8de1efee353d71122272</td>\n",
              "      <td>Our young Earth may have collided with a body ...</td>\n",
              "      <td>Oxford scientists say a Mercury-like body stru...</td>\n",
              "    </tr>\n",
              "    <tr>\n",
              "      <th>11486</th>\n",
              "      <td>2f58d1a99e9c47914e4b1c31613e3a041cd9011e</td>\n",
              "      <td>A man facing trial for helping his former love...</td>\n",
              "      <td>Man accused of helping former lover kill woman...</td>\n",
              "    </tr>\n",
              "    <tr>\n",
              "      <th>11487</th>\n",
              "      <td>411f6d57825161c3a037b4742baccd6cd227c0c3</td>\n",
              "      <td>A dozen or more metal implements are arranged ...</td>\n",
              "      <td>Marianne Power tried the tuning fork facial at...</td>\n",
              "    </tr>\n",
              "    <tr>\n",
              "      <th>11488</th>\n",
              "      <td>b5683ef8342056b17b068e0d59bdbe87e3fe44ea</td>\n",
              "      <td>Brook Lopez dominated twin brother Robin with ...</td>\n",
              "      <td>Brooklyn Nets beat the Portland Trail Blazers ...</td>\n",
              "    </tr>\n",
              "    <tr>\n",
              "      <th>11489</th>\n",
              "      <td>a6a5491edb0c96c4391b6a8c4504416b3572b3a1</td>\n",
              "      <td>A Chinese hospital is being painstakingly move...</td>\n",
              "      <td>Chinese hospital marked for demolition because...</td>\n",
              "    </tr>\n",
              "  </tbody>\n",
              "</table>\n",
              "<p>11490 rows × 3 columns</p>\n",
              "</div>\n",
              "    <div class=\"colab-df-buttons\">\n",
              "\n",
              "  <div class=\"colab-df-container\">\n",
              "    <button class=\"colab-df-convert\" onclick=\"convertToInteractive('df-1866a4c1-8ada-4364-9bf8-1201dc81d4e0')\"\n",
              "            title=\"Convert this dataframe to an interactive table.\"\n",
              "            style=\"display:none;\">\n",
              "\n",
              "  <svg xmlns=\"http://www.w3.org/2000/svg\" height=\"24px\" viewBox=\"0 -960 960 960\">\n",
              "    <path d=\"M120-120v-720h720v720H120Zm60-500h600v-160H180v160Zm220 220h160v-160H400v160Zm0 220h160v-160H400v160ZM180-400h160v-160H180v160Zm440 0h160v-160H620v160ZM180-180h160v-160H180v160Zm440 0h160v-160H620v160Z\"/>\n",
              "  </svg>\n",
              "    </button>\n",
              "\n",
              "  <style>\n",
              "    .colab-df-container {\n",
              "      display:flex;\n",
              "      gap: 12px;\n",
              "    }\n",
              "\n",
              "    .colab-df-convert {\n",
              "      background-color: #E8F0FE;\n",
              "      border: none;\n",
              "      border-radius: 50%;\n",
              "      cursor: pointer;\n",
              "      display: none;\n",
              "      fill: #1967D2;\n",
              "      height: 32px;\n",
              "      padding: 0 0 0 0;\n",
              "      width: 32px;\n",
              "    }\n",
              "\n",
              "    .colab-df-convert:hover {\n",
              "      background-color: #E2EBFA;\n",
              "      box-shadow: 0px 1px 2px rgba(60, 64, 67, 0.3), 0px 1px 3px 1px rgba(60, 64, 67, 0.15);\n",
              "      fill: #174EA6;\n",
              "    }\n",
              "\n",
              "    .colab-df-buttons div {\n",
              "      margin-bottom: 4px;\n",
              "    }\n",
              "\n",
              "    [theme=dark] .colab-df-convert {\n",
              "      background-color: #3B4455;\n",
              "      fill: #D2E3FC;\n",
              "    }\n",
              "\n",
              "    [theme=dark] .colab-df-convert:hover {\n",
              "      background-color: #434B5C;\n",
              "      box-shadow: 0px 1px 3px 1px rgba(0, 0, 0, 0.15);\n",
              "      filter: drop-shadow(0px 1px 2px rgba(0, 0, 0, 0.3));\n",
              "      fill: #FFFFFF;\n",
              "    }\n",
              "  </style>\n",
              "\n",
              "    <script>\n",
              "      const buttonEl =\n",
              "        document.querySelector('#df-1866a4c1-8ada-4364-9bf8-1201dc81d4e0 button.colab-df-convert');\n",
              "      buttonEl.style.display =\n",
              "        google.colab.kernel.accessAllowed ? 'block' : 'none';\n",
              "\n",
              "      async function convertToInteractive(key) {\n",
              "        const element = document.querySelector('#df-1866a4c1-8ada-4364-9bf8-1201dc81d4e0');\n",
              "        const dataTable =\n",
              "          await google.colab.kernel.invokeFunction('convertToInteractive',\n",
              "                                                    [key], {});\n",
              "        if (!dataTable) return;\n",
              "\n",
              "        const docLinkHtml = 'Like what you see? Visit the ' +\n",
              "          '<a target=\"_blank\" href=https://colab.research.google.com/notebooks/data_table.ipynb>data table notebook</a>'\n",
              "          + ' to learn more about interactive tables.';\n",
              "        element.innerHTML = '';\n",
              "        dataTable['output_type'] = 'display_data';\n",
              "        await google.colab.output.renderOutput(dataTable, element);\n",
              "        const docLink = document.createElement('div');\n",
              "        docLink.innerHTML = docLinkHtml;\n",
              "        element.appendChild(docLink);\n",
              "      }\n",
              "    </script>\n",
              "  </div>\n",
              "\n",
              "\n",
              "<div id=\"df-6752d2a6-94bc-4f52-944c-623a9c5de4e7\">\n",
              "  <button class=\"colab-df-quickchart\" onclick=\"quickchart('df-6752d2a6-94bc-4f52-944c-623a9c5de4e7')\"\n",
              "            title=\"Suggest charts\"\n",
              "            style=\"display:none;\">\n",
              "\n",
              "<svg xmlns=\"http://www.w3.org/2000/svg\" height=\"24px\"viewBox=\"0 0 24 24\"\n",
              "     width=\"24px\">\n",
              "    <g>\n",
              "        <path d=\"M19 3H5c-1.1 0-2 .9-2 2v14c0 1.1.9 2 2 2h14c1.1 0 2-.9 2-2V5c0-1.1-.9-2-2-2zM9 17H7v-7h2v7zm4 0h-2V7h2v10zm4 0h-2v-4h2v4z\"/>\n",
              "    </g>\n",
              "</svg>\n",
              "  </button>\n",
              "\n",
              "<style>\n",
              "  .colab-df-quickchart {\n",
              "      --bg-color: #E8F0FE;\n",
              "      --fill-color: #1967D2;\n",
              "      --hover-bg-color: #E2EBFA;\n",
              "      --hover-fill-color: #174EA6;\n",
              "      --disabled-fill-color: #AAA;\n",
              "      --disabled-bg-color: #DDD;\n",
              "  }\n",
              "\n",
              "  [theme=dark] .colab-df-quickchart {\n",
              "      --bg-color: #3B4455;\n",
              "      --fill-color: #D2E3FC;\n",
              "      --hover-bg-color: #434B5C;\n",
              "      --hover-fill-color: #FFFFFF;\n",
              "      --disabled-bg-color: #3B4455;\n",
              "      --disabled-fill-color: #666;\n",
              "  }\n",
              "\n",
              "  .colab-df-quickchart {\n",
              "    background-color: var(--bg-color);\n",
              "    border: none;\n",
              "    border-radius: 50%;\n",
              "    cursor: pointer;\n",
              "    display: none;\n",
              "    fill: var(--fill-color);\n",
              "    height: 32px;\n",
              "    padding: 0;\n",
              "    width: 32px;\n",
              "  }\n",
              "\n",
              "  .colab-df-quickchart:hover {\n",
              "    background-color: var(--hover-bg-color);\n",
              "    box-shadow: 0 1px 2px rgba(60, 64, 67, 0.3), 0 1px 3px 1px rgba(60, 64, 67, 0.15);\n",
              "    fill: var(--button-hover-fill-color);\n",
              "  }\n",
              "\n",
              "  .colab-df-quickchart-complete:disabled,\n",
              "  .colab-df-quickchart-complete:disabled:hover {\n",
              "    background-color: var(--disabled-bg-color);\n",
              "    fill: var(--disabled-fill-color);\n",
              "    box-shadow: none;\n",
              "  }\n",
              "\n",
              "  .colab-df-spinner {\n",
              "    border: 2px solid var(--fill-color);\n",
              "    border-color: transparent;\n",
              "    border-bottom-color: var(--fill-color);\n",
              "    animation:\n",
              "      spin 1s steps(1) infinite;\n",
              "  }\n",
              "\n",
              "  @keyframes spin {\n",
              "    0% {\n",
              "      border-color: transparent;\n",
              "      border-bottom-color: var(--fill-color);\n",
              "      border-left-color: var(--fill-color);\n",
              "    }\n",
              "    20% {\n",
              "      border-color: transparent;\n",
              "      border-left-color: var(--fill-color);\n",
              "      border-top-color: var(--fill-color);\n",
              "    }\n",
              "    30% {\n",
              "      border-color: transparent;\n",
              "      border-left-color: var(--fill-color);\n",
              "      border-top-color: var(--fill-color);\n",
              "      border-right-color: var(--fill-color);\n",
              "    }\n",
              "    40% {\n",
              "      border-color: transparent;\n",
              "      border-right-color: var(--fill-color);\n",
              "      border-top-color: var(--fill-color);\n",
              "    }\n",
              "    60% {\n",
              "      border-color: transparent;\n",
              "      border-right-color: var(--fill-color);\n",
              "    }\n",
              "    80% {\n",
              "      border-color: transparent;\n",
              "      border-right-color: var(--fill-color);\n",
              "      border-bottom-color: var(--fill-color);\n",
              "    }\n",
              "    90% {\n",
              "      border-color: transparent;\n",
              "      border-bottom-color: var(--fill-color);\n",
              "    }\n",
              "  }\n",
              "</style>\n",
              "\n",
              "  <script>\n",
              "    async function quickchart(key) {\n",
              "      const quickchartButtonEl =\n",
              "        document.querySelector('#' + key + ' button');\n",
              "      quickchartButtonEl.disabled = true;  // To prevent multiple clicks.\n",
              "      quickchartButtonEl.classList.add('colab-df-spinner');\n",
              "      try {\n",
              "        const charts = await google.colab.kernel.invokeFunction(\n",
              "            'suggestCharts', [key], {});\n",
              "      } catch (error) {\n",
              "        console.error('Error during call to suggestCharts:', error);\n",
              "      }\n",
              "      quickchartButtonEl.classList.remove('colab-df-spinner');\n",
              "      quickchartButtonEl.classList.add('colab-df-quickchart-complete');\n",
              "    }\n",
              "    (() => {\n",
              "      let quickchartButtonEl =\n",
              "        document.querySelector('#df-6752d2a6-94bc-4f52-944c-623a9c5de4e7 button');\n",
              "      quickchartButtonEl.style.display =\n",
              "        google.colab.kernel.accessAllowed ? 'block' : 'none';\n",
              "    })();\n",
              "  </script>\n",
              "</div>\n",
              "\n",
              "  <div id=\"id_64de6221-7e9d-4db7-9481-a1c4a43412d7\">\n",
              "    <style>\n",
              "      .colab-df-generate {\n",
              "        background-color: #E8F0FE;\n",
              "        border: none;\n",
              "        border-radius: 50%;\n",
              "        cursor: pointer;\n",
              "        display: none;\n",
              "        fill: #1967D2;\n",
              "        height: 32px;\n",
              "        padding: 0 0 0 0;\n",
              "        width: 32px;\n",
              "      }\n",
              "\n",
              "      .colab-df-generate:hover {\n",
              "        background-color: #E2EBFA;\n",
              "        box-shadow: 0px 1px 2px rgba(60, 64, 67, 0.3), 0px 1px 3px 1px rgba(60, 64, 67, 0.15);\n",
              "        fill: #174EA6;\n",
              "      }\n",
              "\n",
              "      [theme=dark] .colab-df-generate {\n",
              "        background-color: #3B4455;\n",
              "        fill: #D2E3FC;\n",
              "      }\n",
              "\n",
              "      [theme=dark] .colab-df-generate:hover {\n",
              "        background-color: #434B5C;\n",
              "        box-shadow: 0px 1px 3px 1px rgba(0, 0, 0, 0.15);\n",
              "        filter: drop-shadow(0px 1px 2px rgba(0, 0, 0, 0.3));\n",
              "        fill: #FFFFFF;\n",
              "      }\n",
              "    </style>\n",
              "    <button class=\"colab-df-generate\" onclick=\"generateWithVariable('df_test')\"\n",
              "            title=\"Generate code using this dataframe.\"\n",
              "            style=\"display:none;\">\n",
              "\n",
              "  <svg xmlns=\"http://www.w3.org/2000/svg\" height=\"24px\"viewBox=\"0 0 24 24\"\n",
              "       width=\"24px\">\n",
              "    <path d=\"M7,19H8.4L18.45,9,17,7.55,7,17.6ZM5,21V16.75L18.45,3.32a2,2,0,0,1,2.83,0l1.4,1.43a1.91,1.91,0,0,1,.58,1.4,1.91,1.91,0,0,1-.58,1.4L9.25,21ZM18.45,9,17,7.55Zm-12,3A5.31,5.31,0,0,0,4.9,8.1,5.31,5.31,0,0,0,1,6.5,5.31,5.31,0,0,0,4.9,4.9,5.31,5.31,0,0,0,6.5,1,5.31,5.31,0,0,0,8.1,4.9,5.31,5.31,0,0,0,12,6.5,5.46,5.46,0,0,0,6.5,12Z\"/>\n",
              "  </svg>\n",
              "    </button>\n",
              "    <script>\n",
              "      (() => {\n",
              "      const buttonEl =\n",
              "        document.querySelector('#id_64de6221-7e9d-4db7-9481-a1c4a43412d7 button.colab-df-generate');\n",
              "      buttonEl.style.display =\n",
              "        google.colab.kernel.accessAllowed ? 'block' : 'none';\n",
              "\n",
              "      buttonEl.onclick = () => {\n",
              "        google.colab.notebook.generateWithVariable('df_test');\n",
              "      }\n",
              "      })();\n",
              "    </script>\n",
              "  </div>\n",
              "\n",
              "    </div>\n",
              "  </div>\n"
            ],
            "application/vnd.google.colaboratory.intrinsic+json": {
              "type": "dataframe",
              "variable_name": "df_test",
              "summary": "{\n  \"name\": \"df_test\",\n  \"rows\": 11490,\n  \"fields\": [\n    {\n      \"column\": \"id\",\n      \"properties\": {\n        \"dtype\": \"string\",\n        \"num_unique_values\": 11490,\n        \"samples\": [\n          \"f00ae3c3929d829cd469ba4f229cc613b0766203\",\n          \"9e451f79499e5c784222b3f237c6ae4829849d79\",\n          \"dae58055bd50598b93a230aa3a58e0d2f519b536\"\n        ],\n        \"semantic_type\": \"\",\n        \"description\": \"\"\n      }\n    },\n    {\n      \"column\": \"article\",\n      \"properties\": {\n        \"dtype\": \"string\",\n        \"num_unique_values\": 11488,\n        \"samples\": [\n          \"A Hollywood-inspired experiment to help dementia patients by waking them up with video recordings from loved ones is taking place in New York. The hope is that the videos shown to residents of a care home in the city will ease their confusion, forgetfulness and agitation. The idea is borrowed from the 2004 Adam Sandler film 50 First Dates, in which Drew Barrymore's character suffers a brain injury and memory loss each day. A suitor, played by Sandler, uses videos to remind her of him. Charlotte Dell, director of social services at Hebrew Home in Riverdale, said the film was 'fluff', but added it inspired her to think about how the idea could help residents. The film 50 First Dates starring Adam Sandler and Drew Barrymore has inspired a new dementia experiment taking place at a care home in Riverdale, New York . 'We're looking to see if we can set a positive tone for the day,' without using drugs, she said. 'What better way to start the day than to see the face and hear the voice of someone you love wishing you a wonderful morning?' As in the film, each day a new video is shown to residents. Relatives are encouraged to take part to say good morning, use memory-triggering personal anecdotes and remind their loved ones that care home staff will be helping them get dressed and ready for the day. People suffering Alzheimer's disease and other forms of dementia often fell confused and anxious in the morning. The programme is designed to help those who are in the early to moderate stages of dementia, those who are still likely to recognise the people in the video and understand what they are saying. Ms Dell said: 'Do we know for sure that they know, this is my daughter, this is my son? No. 'But they recognise them as somebody they care about and love.' The Hebrew Home is planning to evaluate the programme next month, with the aim of expanding it to several hundred residents in its memory-care 'neighbourhoods'. Ms Dell said anecdotal evidence so far from staff at the home is 'very positive'. Robert Abrams, a geriatric psychiatrist at New York Presbyterian Hospital said the pilot is 'both innovative and thoughtful'. 'You've got a group of people with dementia who don't really grasp the nature and purpose of their surroundings or the circumstances that compelled them to be there,' he said. 'Consequently they're alone and at sea and feel frightened and even abandoned by family.' Resident Louisa Irving, 94, is one of several dementia sufferers at Hebrew Care Home, who is woken up each morning with a video recording from a loved one to help ease confusion and agitation . Her daughter Tamara Rusoff-Hoen, pictured in the striped top, records messages including stories of happy memories and family get-togethers, signing off with the family goodbye, 'Kiss, kiss, I love you' Among the residents taking part in the study is 94-year-old dementia sufferer, Louisa Irving. She wakes up each day to a video from her daughter Tamara Rusoff-Hoen, who sings: 'Good morning, merry sunshine, how did you wake so soon?' to her mother. The five-minute video includes stories of happy memories and get-togethers, and often inspires a bright smile from Ms Irving, before her daughter signs off with the family goodbye: 'Kiss, kiss, I love you.' Ms Rusoff-Hoen, said: 'Some of her agitation comes from, \\\"Who the heck are these people? Why am I here?\\\".' Although Ms Rusoff-Hoen, who lives a few hours away in Ghent, visits her mother three days a week, she said the video allows her to fill in the gaps. 'I am there with my mum, loving her and wishing her a wonderful day and helping her to feel better because there's not a lot I can do for her.' Other videos include a woman reminding her mother, in Spainish, to eat and take her medications before telling her: 'I love you, mum.' And in another, a man encourages his mother, telling her: 'You used to tell me that attitude is everything. You said that it's best to start off on the sunny side of the street.'\",\n          \"Eerie footage has emerged showing a mysterious 100 metre-wide black ring of smoke floating over clear skies in Kazakhstan - convincing locals it was caused by a UFO. The clip was filmed on Saturday in Shortandy village, 40 miles north of the capital Astana, and captures the  cloud hovering in the sky for 15 minutes before suddenly vanishing without trace. The video has been viewed more than 50,000 times since being uploaded to YouTube, prompting all manner of bizarre explanations for the\\u00a0phenomenon - with many seemingly convinced it is definitive proof of extra-terrestrial life. Spine-chilling: The creepy footage shows a mysterious 100 metre-wide black ring of smoke floating over clear skies in Kazakhstan - convincing locals it was caused by a UFO . Confused locals watched the mysterious cloud hover ominously over Shortandy for a quarter of an hour on Saturday morning before it vanished as quickly as it appeared. Once the cloud had rapidly dispersed, no trace of it was left in the sky. Speaking to local news website Today.kz, villager Oleg Menshikov said: 'It was like a black cloud. We saw it at around 4 pm on April 3. It dissipated like smoke, but it was completely odourless.' Within minutes of the video being shared online, YouTube users began to question whether the thick black hoop was an alien spacecraft, while others suggested it might just be cigarette smoke immediately in front of the camera but giving the perception it is in the sky. Others thought the cloud was likely to be a naturally occurring weather event known as a thermal microburst, which is caused by a falling mass of warm air. Mysterious: The clip was filmed on Saturday in Shortandy village, 40 miles north of the capital Astana, and captures the cloud hovering in the sky for 15 minutes before suddenly vanishing without trace . Dispersing rapidly: Confused locals watched the mysterious cloud hover ominously over Shortandy for a quarter of an hour on Saturday morning before it vanished as quickly as it appeared . Experts believe the cloud was roughly 100 metres in diameter and floated close to a mile in the air. Speaking to Russia Today, Andrey Solodovnik - associate physics professor at the Northern Kazakhstan State University - dismissed suggestions the cloud was caused by aliens. He said that based on similar clouds seen in the skies in recent years, the giant black hoop was likely to have been little more than a smoke ring generated by combustion at nearby factories. Plenty of industrial machinery is known to create ring-shaped clouds of smoke, though these are usually lighter-coloured, considerably less dense and vanish in just one or two minutes. In the latest instance it is likely the cloud was far more visible and hung around in the sky for much longer than usual for the simple reason it was cloudless day with little to no wind.\",\n          \"Arrested: Doug Hughes was put under arrest for his gyro-copter stunt and charged with\\u00a0operating an unregistered aircraft and violating national airspace . The postal carrier who flew a gyrocopter onto the lawn of the U.S. Capitol is facing two criminal charges. But he's being released from federal custody to return to Florida. Doug Hughes made his initial appearance in U.S. District Court in Washington on Thursday. That's one day after he steered his tiny aircraft onto the Capitol's West Lawn after flying through restricted airspace around the National Mall. He was charged with operating an unregistered aircraft and violating national airspace. Hughes said it was a political protest. Hughes was released on his own recognizance afterward and instructed to check in weekly with authorities in Tampa starting next week. In a soft voice, Hughes appeared to ask the judge a clarifying question about that obligation but otherwise he did not say anything significant. Homeland Security Secretary Jeh Johnson said Thursday that the copter 'apparently literally flew in under the radar,'\\u00a0as concerned lawmakers questioned how it was allowed to happen and why. Johnson said it's too soon to say whether Wednesday's incident should prompt changes in security procedures. 'I want to know all the facts before I reach an assessment of what can and should be done about gyrocopters in the future,' he said. But lawmakers said the incident exposed a gap in security, especially amid revelations that the pilot, Florida postal worker Doug Hughes, was interviewed by the Secret Service almost two years ago. The agency apparently determined he did not pose a threat, said Rep. Elijah Cummings, D-Md., the senior Democrat on the House Oversight and Government Reform Committee. Cummings spoke Thursday with the Secret Service director. 'I think that there's absolutely a gap, and it's a very dangerous gap, with regard to our airspace,' Cummings said. 'I don't want people to get a message that they can just land anywhere. Suppose there was a bomb or an explosive device on that air vehicle? That could have been a major catastrophe.' How'd it happen? Homeland Security Secretary Jeh Johnson said Thursday that the copter 'apparently literally flew in under the radar,' as concerned lawmakers questioned how it was allowed to happen and why . Approach: The small gyro-copter (circled in red) lands on the West Lawn of the Capitol in Washington as members of the public walk by. The stunt hasn't cost him his freedom, yet, but means he must check in with authorities every week as he awaits trial . Johnson said the Secret Service passed along the information from the interview with Hughes, who was to appear in court Thursday afternoon, to 'all of the appropriate law enforcement agencies.' House Minority leader Nancy Pelosi, D-Calif., called the incident 'stunning.' 'What safeguards can we use? We don't want to be a place where we're saying `This is an iron-clad Capitol.' And have such restrictions on people having access to it,' Pelosi told reporters. 'Nonetheless, we have to ensure the safety of those people.' The tiny, open-air aircraft landed without injuries to anyone, but the incident raises questions about how someone could be allowed to fly all the way from Gettysburg, Pennsylvania, right up to the Capitol. Hughes has said he was making the flight to publicize his concerns about the corrupting influence of money in politics, and deliver letters to all 535 members of Congress on the topic. 'We are a democracy. We don't have fences around our airspace, so we've got to find the right balance between living in a free and open society and security and the protection of federal buildings,' Johnson told reporters on Capitol Hill. 'And so we want to stay one step ahead of every incident like this, but then again, you don't want to overreact, either.' Still, lawmakers questioned why, if authorities had been in touch with Hughes, no action was taken to stop him. Practice run: Doug Hughes flies his gyrocopter near the Wauchula Municipal Airport in Wauchula, Florida prior to his 'insane' stunt on Wednesday . Before\\u00a0Doug Hughes made headlines by flying his open air helicopter onto the U.S. Capitol grounds, he blogged about his intention to undertake the 'non-violent demonstration.' Though, it may have been a demonstration years in the making. In a post dated September 2013 on the democracyclub.org, a writer called Tampadoug47 wrote: . Let me say first \\u2013 this is a non-violent demonstration. I have no intention of hurting anyone \\u2013 I have taken every precaution to prevent any injury to anyone, including me. There is no way I can prevent over-reaction by the authorities, but I have given them as much information and advance warning as my fuel supply allows. When I took off, I was over an hour away from the no-fly zone. The demonstration is about restoring democracy. Corruption in Washington DC has robbed the US citizens of the representative government that is our birthright. Polls show that the public is aware of the problem and VERY concerned, but they are largely uninformed that there is a solution and there are organizations prepared to make reform a reality. As a result of this flight, two things will happen. (I hope.) First, we\\u2019re going to change the narrative \\u2013 the story. Voters are going to quit being played like suckers with divisive hot-button issues and come together on a single issue. Honest government. Congress won\\u2019t start working for you or me when their big paycheck is from big business. Lobbyists, Special Interests, Unions. We have to make this happen. The political parties won\\u2019t. Congress sure won\\u2019t. Lobbyists love the status quo. The mainstream media (not the local media) is making a financial killing with mega-elections. It\\u2019s up to us. Second, in every Congressional race in 2016, I want every candidate to take a stand on corruption. After this flight, we\\u2019re going to define exactly what reform means \\u2013 set a written standard \\u2013 and it\\u2019s that standard which candidates will have to endorse. Or the candidate will have to defend to voters why he took a lesser position. The candidate who only wants to talk \\u2018reform\\u2019 but won\\u2019t endorse the real deal will be facing someone who will endorse real reform. That may be in the primary or the general election. Giving you a choice is our job. The clear choice, establishment or reform, will be in place in just a year for just over 460 congressional races. You get to choose (That\\u2019s your job as a voter.) but for the first time in decades, you will have a meaningful choice. What do I want from you? Look over your options on the previous screen or the \\u2018Honor Roll\\u2019 on the sidebar to the right. Rootstrikers or Wolf PAC or Represent.US. My favorite group isn\\u2019t listed there \\u2013 it\\u2019s my own startup group:\\u2018The Civilist Papers\\u2018. Find a group (or groups) that you are comfortable with and sign up. We\\u2019re not after money \\u2013 we want to know who you are and where you are so we can keep you informed. Protest flight: Doug Hughes took off from an undisclosed location in Washington D.C. and landed his gyro-copter on the West Front lawn of the US Capitol building . 'My concerns are the prior notice that he was going to do this and the lack of response,' said Rep. Michael McCaul, R-Texas, chairman of the House Homeland Security Committee. 'These small aircraft or UAV devices concern me because they could go undetected and cause damage, so that's something we're taking a look at,' McCaul said, adding he might hold hearings on the issue. Cummings and others also complained that they were not notified of the incident and that many first learned of it from the news media. Johnson defended existing protocols for dealing with the restricted airspace over Washington, D.C., federal buildings and monuments. 'We've got a well-coordinated federal response to dealing with issues of those who penetrate the restricted airspace without permission,' he said. He said his first reaction on hearing of the incident was to ask, 'What's a gyrocopter?' It's not unusual for a small aircraft like a gyrocopter to go undetected by conventional radar. Unlike most larger aircraft, a gyrocopter doesn't have a transponder that identifies the aircraft, its altitude and heading. Even without a transponder, radar can detect 'primary targets' - planes, flocks of birds, rain and other objects. But how well it can detect those objects depends upon several factors. The landing on the Capitol grounds 'just illustrates how hard it is to have an impermeable barrier. It's very hard to hermetically seal airspace,' said John Hansman, a Massachusetts Institute of Technology aeronautics professor. Evidence: The illegally landed craft \\u00a0was piloted by Florida mailman Doug Hughes to protest against government corruption and to promote campaign finance reform . Evidence: The illegally landed craft \\u00a0was piloted by Florida mailman Doug Hughes to protest against government corruption and to promote campaign finance reform .\"\n        ],\n        \"semantic_type\": \"\",\n        \"description\": \"\"\n      }\n    },\n    {\n      \"column\": \"highlights\",\n      \"properties\": {\n        \"dtype\": \"string\",\n        \"num_unique_values\": 11449,\n        \"samples\": [\n          \"The wildfire started in Miami-Dade County on Sunday .\\nBy Monday night, it had grown to nearly 2,000 acres .\\nThe fire was 50% contained, officials said .\",\n          \"30-stone woman's 'perfect belly' attracted men from around the world .\\nGayla Neufeld always struggled with her size, weighing 13 stone aged eight .\\nThe 52-year-old\\u00a0now embraces her belly and works as a webcam model .\\nTexan Gayla met her husband Lance, from Canada, on a fat-fetish forum .\",\n          \"Annette Edwards has owned more than 100 bunnies in the past 10 years .\\nShe claims the secret to breeding huge rabbits is both parents must be big .\\nThe former Playboy model has owned the world's largest rabbit since 2008 .\\nHer rabbit Darius is 4ft in length but he will soon be eclipsed by his son .\"\n        ],\n        \"semantic_type\": \"\",\n        \"description\": \"\"\n      }\n    }\n  ]\n}"
            }
          },
          "metadata": {},
          "execution_count": 50
        }
      ]
    },
    {
      "cell_type": "code",
      "source": [
        "test=df_test['article'][1:3].replace(\"'\",\"\")"
      ],
      "metadata": {
        "id": "6LPtMmwh3LvA"
      },
      "execution_count": 51,
      "outputs": []
    },
    {
      "cell_type": "code",
      "source": [
        "for i in test:\n",
        "  print(i+'\\n')\n",
        "  print(tests(i,v,Ws,Wh,battn,weights,model,bias,tokenizer,l=50))"
      ],
      "metadata": {
        "id": "PuaUavlSBO73"
      },
      "execution_count": null,
      "outputs": []
    }
  ]
}